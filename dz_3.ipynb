{
 "cells": [
  {
   "cell_type": "markdown",
   "metadata": {
    "colab_type": "text",
    "id": "9wqpiQR2AbtX"
   },
   "source": [
    "# Домашнее задание №3"
   ]
  },
  {
   "cell_type": "code",
   "execution_count": 378,
   "metadata": {
    "colab": {},
    "colab_type": "code",
    "id": "Zo_j9HCKCPgi"
   },
   "outputs": [],
   "source": [
    "import numpy as np\n",
    "from scipy.stats import t\n",
    "from scipy.stats import norm\n",
    "import matplotlib.pyplot as plt\n",
    "from scipy import stats\n",
    "import pandas as pd\n",
    "import io\n",
    "import requests\n",
    "import seaborn as sns\n",
    "\n",
    "%matplotlib inline"
   ]
  },
  {
   "cell_type": "markdown",
   "metadata": {
    "colab_type": "text",
    "id": "LrhPyaIACZsb"
   },
   "source": [
    "Таблица Indian liver pations records."
   ]
  },
  {
   "cell_type": "code",
   "execution_count": 379,
   "metadata": {
    "colab": {
     "base_uri": "https://localhost:8080/",
     "height": 224
    },
    "colab_type": "code",
    "id": "LQWcltRn-vZc",
    "outputId": "57d517f0-64f9-47c1-e092-b724da8029a1"
   },
   "outputs": [
    {
     "data": {
      "text/html": [
       "<div>\n",
       "<style scoped>\n",
       "    .dataframe tbody tr th:only-of-type {\n",
       "        vertical-align: middle;\n",
       "    }\n",
       "\n",
       "    .dataframe tbody tr th {\n",
       "        vertical-align: top;\n",
       "    }\n",
       "\n",
       "    .dataframe thead th {\n",
       "        text-align: right;\n",
       "    }\n",
       "</style>\n",
       "<table border=\"1\" class=\"dataframe\">\n",
       "  <thead>\n",
       "    <tr style=\"text-align: right;\">\n",
       "      <th></th>\n",
       "      <th>Age</th>\n",
       "      <th>Gender</th>\n",
       "      <th>Total_Bilirubin</th>\n",
       "      <th>Direct_Bilirubin</th>\n",
       "      <th>Alkaline_Phosphotase</th>\n",
       "      <th>Alamine_Aminotransferase</th>\n",
       "      <th>Aspartate_Aminotransferase</th>\n",
       "      <th>Total_Protiens</th>\n",
       "      <th>Albumin</th>\n",
       "      <th>Albumin_and_Globulin_Ratio</th>\n",
       "      <th>Dataset</th>\n",
       "    </tr>\n",
       "  </thead>\n",
       "  <tbody>\n",
       "    <tr>\n",
       "      <td>0</td>\n",
       "      <td>65</td>\n",
       "      <td>Female</td>\n",
       "      <td>0.7</td>\n",
       "      <td>0.1</td>\n",
       "      <td>187</td>\n",
       "      <td>16</td>\n",
       "      <td>18</td>\n",
       "      <td>6.8</td>\n",
       "      <td>3.3</td>\n",
       "      <td>0.90</td>\n",
       "      <td>1</td>\n",
       "    </tr>\n",
       "    <tr>\n",
       "      <td>1</td>\n",
       "      <td>62</td>\n",
       "      <td>Male</td>\n",
       "      <td>10.9</td>\n",
       "      <td>5.5</td>\n",
       "      <td>699</td>\n",
       "      <td>64</td>\n",
       "      <td>100</td>\n",
       "      <td>7.5</td>\n",
       "      <td>3.2</td>\n",
       "      <td>0.74</td>\n",
       "      <td>1</td>\n",
       "    </tr>\n",
       "    <tr>\n",
       "      <td>2</td>\n",
       "      <td>62</td>\n",
       "      <td>Male</td>\n",
       "      <td>7.3</td>\n",
       "      <td>4.1</td>\n",
       "      <td>490</td>\n",
       "      <td>60</td>\n",
       "      <td>68</td>\n",
       "      <td>7.0</td>\n",
       "      <td>3.3</td>\n",
       "      <td>0.89</td>\n",
       "      <td>1</td>\n",
       "    </tr>\n",
       "    <tr>\n",
       "      <td>3</td>\n",
       "      <td>58</td>\n",
       "      <td>Male</td>\n",
       "      <td>1.0</td>\n",
       "      <td>0.4</td>\n",
       "      <td>182</td>\n",
       "      <td>14</td>\n",
       "      <td>20</td>\n",
       "      <td>6.8</td>\n",
       "      <td>3.4</td>\n",
       "      <td>1.00</td>\n",
       "      <td>1</td>\n",
       "    </tr>\n",
       "    <tr>\n",
       "      <td>4</td>\n",
       "      <td>72</td>\n",
       "      <td>Male</td>\n",
       "      <td>3.9</td>\n",
       "      <td>2.0</td>\n",
       "      <td>195</td>\n",
       "      <td>27</td>\n",
       "      <td>59</td>\n",
       "      <td>7.3</td>\n",
       "      <td>2.4</td>\n",
       "      <td>0.40</td>\n",
       "      <td>1</td>\n",
       "    </tr>\n",
       "  </tbody>\n",
       "</table>\n",
       "</div>"
      ],
      "text/plain": [
       "   Age  Gender  Total_Bilirubin  Direct_Bilirubin  Alkaline_Phosphotase  \\\n",
       "0   65  Female              0.7               0.1                   187   \n",
       "1   62    Male             10.9               5.5                   699   \n",
       "2   62    Male              7.3               4.1                   490   \n",
       "3   58    Male              1.0               0.4                   182   \n",
       "4   72    Male              3.9               2.0                   195   \n",
       "\n",
       "   Alamine_Aminotransferase  Aspartate_Aminotransferase  Total_Protiens  \\\n",
       "0                        16                          18             6.8   \n",
       "1                        64                         100             7.5   \n",
       "2                        60                          68             7.0   \n",
       "3                        14                          20             6.8   \n",
       "4                        27                          59             7.3   \n",
       "\n",
       "   Albumin  Albumin_and_Globulin_Ratio  Dataset  \n",
       "0      3.3                        0.90        1  \n",
       "1      3.2                        0.74        1  \n",
       "2      3.3                        0.89        1  \n",
       "3      3.4                        1.00        1  \n",
       "4      2.4                        0.40        1  "
      ]
     },
     "execution_count": 379,
     "metadata": {},
     "output_type": "execute_result"
    }
   ],
   "source": [
    "url=\"http://yustiks.ru/dataset/indian_liver_patient.csv\"\n",
    "data=pd.read_csv(url)\n",
    "data.head()"
   ]
  },
  {
   "cell_type": "markdown",
   "metadata": {
    "colab_type": "text",
    "id": "XyNNmtvIDDy3"
   },
   "source": [
    "Columns:\n",
    "\n",
    "*  Age of the patient\n",
    "*  Gender of the patient\n",
    "*  Total Bilirubin\n",
    "*  Direct Bilirubin\n",
    "*  Alkaline Phosphotase\n",
    "*  Alamine Aminotransferase\n",
    "*  Aspartate Aminotransferase\n",
    "*  Total Protiens\n",
    "*  Albumin\n",
    "*  Albumin and Globulin Ratio\n",
    "*  Dataset: field used to split the data into two sets (patient with liver disease, or no disease)\n"
   ]
  },
  {
   "cell_type": "markdown",
   "metadata": {
    "colab_type": "text",
    "id": "3v0ZWcBVSOXK"
   },
   "source": [
    "Построить одномерную линейную регрессию Direct_Bilirubin и Total_Bilirubin. Построить график. Строим прямую с помощью уравнения которое мы посчитали. Предсказать несколько элементов из таблицы с помощью метода predict() и сравнить с результатом табличным."
   ]
  },
  {
   "cell_type": "code",
   "execution_count": 380,
   "metadata": {},
   "outputs": [],
   "source": [
    "x_column_name = 'Direct_Bilirubin'\n",
    "y_column_name = 'Total_Bilirubin'\n",
    "\n",
    "d_bilirubin = data[x_column_name]\n",
    "t_bilirubin = data[y_column_name]"
   ]
  },
  {
   "cell_type": "markdown",
   "metadata": {},
   "source": [
    "- Проверим наши столбцы на наличие выбросов"
   ]
  },
  {
   "cell_type": "code",
   "execution_count": 381,
   "metadata": {},
   "outputs": [
    {
     "data": {
      "text/plain": [
       "count    583.000000\n",
       "mean       1.486106\n",
       "std        2.808498\n",
       "min        0.100000\n",
       "25%        0.200000\n",
       "50%        0.300000\n",
       "75%        1.300000\n",
       "max       19.700000\n",
       "Name: Direct_Bilirubin, dtype: float64"
      ]
     },
     "execution_count": 381,
     "metadata": {},
     "output_type": "execute_result"
    }
   ],
   "source": [
    "d_bilirubin.describe()"
   ]
  },
  {
   "cell_type": "code",
   "execution_count": 382,
   "metadata": {},
   "outputs": [
    {
     "data": {
      "text/plain": [
       "count    583.000000\n",
       "mean       3.298799\n",
       "std        6.209522\n",
       "min        0.400000\n",
       "25%        0.800000\n",
       "50%        1.000000\n",
       "75%        2.600000\n",
       "max       75.000000\n",
       "Name: Total_Bilirubin, dtype: float64"
      ]
     },
     "execution_count": 382,
     "metadata": {},
     "output_type": "execute_result"
    }
   ],
   "source": [
    "t_bilirubin.describe()"
   ]
  },
  {
   "cell_type": "code",
   "execution_count": 383,
   "metadata": {},
   "outputs": [
    {
     "data": {
      "text/plain": [
       "166    75.0\n",
       "259    30.5\n",
       "504    30.5\n",
       "505    32.6\n",
       "531    30.8\n",
       "559    42.8\n",
       "Name: Total_Bilirubin, dtype: float64"
      ]
     },
     "execution_count": 383,
     "metadata": {},
     "output_type": "execute_result"
    }
   ],
   "source": [
    "t_bilirubin[t_bilirubin > 30]"
   ]
  },
  {
   "cell_type": "markdown",
   "metadata": {},
   "source": [
    "- 166 элемент выглядит как выброс и я хочу от него избавиться"
   ]
  },
  {
   "cell_type": "code",
   "execution_count": 384,
   "metadata": {},
   "outputs": [],
   "source": [
    "data = data[data[y_column_name] < 75]\n",
    "\n",
    "d_bilirubin = data[x_column_name]\n",
    "t_bilirubin = data[y_column_name]"
   ]
  },
  {
   "cell_type": "markdown",
   "metadata": {},
   "source": [
    "- Теперь можно построить модель и график линейной регрессии"
   ]
  },
  {
   "cell_type": "code",
   "execution_count": 385,
   "metadata": {},
   "outputs": [
    {
     "data": {
      "image/png": "[encoded data removed]",
      "text/plain": [
       "<Figure size 432x288 with 1 Axes>"
      ]
     },
     "metadata": {
      "needs_background": "light"
     },
     "output_type": "display_data"
    }
   ],
   "source": [
    "from sklearn.linear_model import LinearRegression\n",
    "\n",
    "model = LinearRegression()\n",
    "model.fit(np.array(d_bilirubin).reshape(-1, 1), t_bilirubin)\n",
    "\n",
    "x = np.linspace(min(d_bilirubin), max(d_bilirubin), 100)\n",
    "y = model.coef_ * x + model.intercept_\n",
    "\n",
    "plt.title(f'Линейная регрессия {x_column_name} к {y_column_name}')\n",
    "plt.xlabel(x_column_name)\n",
    "plt.ylabel(y_column_name)\n",
    "\n",
    "plt.plot(d_bilirubin, t_bilirubin, 'b.')\n",
    "plt.plot(x, y)\n",
    "plt.show()"
   ]
  },
  {
   "cell_type": "markdown",
   "metadata": {},
   "source": [
    "- Как видно из графика, данные сильно коррелируют друг с другом, поэтому они выглядят линейно зависимыми\n",
    "\n",
    "- Сделаем несколько предсказаний"
   ]
  },
  {
   "cell_type": "code",
   "execution_count": 386,
   "metadata": {},
   "outputs": [
    {
     "name": "stdout",
     "output_type": "stream",
     "text": [
      "#1 - val: 5 => predict: [9.86783792]\n",
      "#2 - val: 7 => predict: [13.67291965]\n",
      "#3 - val: 9 => predict: [17.47800139]\n",
      "#4 - val: 11 => predict: [21.28308313]\n",
      "#5 - val: 13 => predict: [25.08816487]\n",
      "#6 - val: 15 => predict: [28.8932466]\n"
     ]
    }
   ],
   "source": [
    "predict_test_values = np.arange(5, 16, 2)\n",
    "\n",
    "for n, x_predict in enumerate(predict_test_values):\n",
    "    print(f'#{n + 1} - val: {x_predict} => predict: {model.predict([[x_predict]])}')"
   ]
  },
  {
   "cell_type": "markdown",
   "metadata": {},
   "source": [
    "- Отфильтруем наши данные по значениям x для предсказания"
   ]
  },
  {
   "cell_type": "code",
   "execution_count": 387,
   "metadata": {},
   "outputs": [
    {
     "name": "stdout",
     "output_type": "stream",
     "text": [
      "<class 'pandas.core.frame.DataFrame'>\n",
      "Int64Index: 45 entries, 1 to 577\n",
      "Data columns (total 11 columns):\n",
      "Age                           45 non-null int64\n",
      "Gender                        45 non-null object\n",
      "Total_Bilirubin               45 non-null float64\n",
      "Direct_Bilirubin              45 non-null float64\n",
      "Alkaline_Phosphotase          45 non-null int64\n",
      "Alamine_Aminotransferase      45 non-null int64\n",
      "Aspartate_Aminotransferase    45 non-null int64\n",
      "Total_Protiens                45 non-null float64\n",
      "Albumin                       45 non-null float64\n",
      "Albumin_and_Globulin_Ratio    45 non-null float64\n",
      "Dataset                       45 non-null int64\n",
      "dtypes: float64(5), int64(5), object(1)\n",
      "memory usage: 4.2+ KB\n"
     ]
    }
   ],
   "source": [
    "test_data = data[\n",
    "    (data[x_column_name] > min(predict_test_values)) & (data[x_column_name] < max(predict_test_values))\n",
    "]\n",
    "\n",
    "test_data.info()"
   ]
  },
  {
   "cell_type": "markdown",
   "metadata": {},
   "source": [
    "- Получилось всего 45 значений, выведем их на экран"
   ]
  },
  {
   "cell_type": "code",
   "execution_count": 388,
   "metadata": {
    "scrolled": true
   },
   "outputs": [
    {
     "data": {
      "text/html": [
       "<div>\n",
       "<style scoped>\n",
       "    .dataframe tbody tr th:only-of-type {\n",
       "        vertical-align: middle;\n",
       "    }\n",
       "\n",
       "    .dataframe tbody tr th {\n",
       "        vertical-align: top;\n",
       "    }\n",
       "\n",
       "    .dataframe thead th {\n",
       "        text-align: right;\n",
       "    }\n",
       "</style>\n",
       "<table border=\"1\" class=\"dataframe\">\n",
       "  <thead>\n",
       "    <tr style=\"text-align: right;\">\n",
       "      <th></th>\n",
       "      <th>Direct_Bilirubin</th>\n",
       "      <th>Total_Bilirubin</th>\n",
       "    </tr>\n",
       "  </thead>\n",
       "  <tbody>\n",
       "    <tr>\n",
       "      <td>420</td>\n",
       "      <td>5.1</td>\n",
       "      <td>10.9</td>\n",
       "    </tr>\n",
       "    <tr>\n",
       "      <td>526</td>\n",
       "      <td>5.2</td>\n",
       "      <td>9.4</td>\n",
       "    </tr>\n",
       "    <tr>\n",
       "      <td>1</td>\n",
       "      <td>5.5</td>\n",
       "      <td>10.9</td>\n",
       "    </tr>\n",
       "    <tr>\n",
       "      <td>135</td>\n",
       "      <td>5.6</td>\n",
       "      <td>11.3</td>\n",
       "    </tr>\n",
       "    <tr>\n",
       "      <td>574</td>\n",
       "      <td>6.0</td>\n",
       "      <td>12.1</td>\n",
       "    </tr>\n",
       "    <tr>\n",
       "      <td>548</td>\n",
       "      <td>6.1</td>\n",
       "      <td>11.1</td>\n",
       "    </tr>\n",
       "    <tr>\n",
       "      <td>117</td>\n",
       "      <td>6.2</td>\n",
       "      <td>12.7</td>\n",
       "    </tr>\n",
       "    <tr>\n",
       "      <td>268</td>\n",
       "      <td>6.4</td>\n",
       "      <td>14.5</td>\n",
       "    </tr>\n",
       "    <tr>\n",
       "      <td>118</td>\n",
       "      <td>7.0</td>\n",
       "      <td>15.9</td>\n",
       "    </tr>\n",
       "    <tr>\n",
       "      <td>261</td>\n",
       "      <td>7.0</td>\n",
       "      <td>1.5</td>\n",
       "    </tr>\n",
       "    <tr>\n",
       "      <td>536</td>\n",
       "      <td>7.2</td>\n",
       "      <td>15.8</td>\n",
       "    </tr>\n",
       "    <tr>\n",
       "      <td>561</td>\n",
       "      <td>7.6</td>\n",
       "      <td>16.6</td>\n",
       "    </tr>\n",
       "    <tr>\n",
       "      <td>172</td>\n",
       "      <td>7.6</td>\n",
       "      <td>14.1</td>\n",
       "    </tr>\n",
       "    <tr>\n",
       "      <td>560</td>\n",
       "      <td>7.7</td>\n",
       "      <td>15.2</td>\n",
       "    </tr>\n",
       "    <tr>\n",
       "      <td>37</td>\n",
       "      <td>7.8</td>\n",
       "      <td>14.2</td>\n",
       "    </tr>\n",
       "    <tr>\n",
       "      <td>119</td>\n",
       "      <td>8.2</td>\n",
       "      <td>18.0</td>\n",
       "    </tr>\n",
       "    <tr>\n",
       "      <td>576</td>\n",
       "      <td>8.2</td>\n",
       "      <td>15.0</td>\n",
       "    </tr>\n",
       "    <tr>\n",
       "      <td>568</td>\n",
       "      <td>8.4</td>\n",
       "      <td>16.7</td>\n",
       "    </tr>\n",
       "    <tr>\n",
       "      <td>577</td>\n",
       "      <td>8.4</td>\n",
       "      <td>12.7</td>\n",
       "    </tr>\n",
       "    <tr>\n",
       "      <td>508</td>\n",
       "      <td>8.5</td>\n",
       "      <td>18.4</td>\n",
       "    </tr>\n",
       "    <tr>\n",
       "      <td>562</td>\n",
       "      <td>8.5</td>\n",
       "      <td>17.3</td>\n",
       "    </tr>\n",
       "    <tr>\n",
       "      <td>49</td>\n",
       "      <td>8.8</td>\n",
       "      <td>18.4</td>\n",
       "    </tr>\n",
       "    <tr>\n",
       "      <td>506</td>\n",
       "      <td>8.8</td>\n",
       "      <td>17.7</td>\n",
       "    </tr>\n",
       "    <tr>\n",
       "      <td>260</td>\n",
       "      <td>8.9</td>\n",
       "      <td>16.4</td>\n",
       "    </tr>\n",
       "    <tr>\n",
       "      <td>177</td>\n",
       "      <td>9.0</td>\n",
       "      <td>14.8</td>\n",
       "    </tr>\n",
       "    <tr>\n",
       "      <td>246</td>\n",
       "      <td>9.0</td>\n",
       "      <td>1.8</td>\n",
       "    </tr>\n",
       "    <tr>\n",
       "      <td>272</td>\n",
       "      <td>9.5</td>\n",
       "      <td>18.5</td>\n",
       "    </tr>\n",
       "    <tr>\n",
       "      <td>572</td>\n",
       "      <td>9.5</td>\n",
       "      <td>15.6</td>\n",
       "    </tr>\n",
       "    <tr>\n",
       "      <td>535</td>\n",
       "      <td>9.5</td>\n",
       "      <td>19.6</td>\n",
       "    </tr>\n",
       "    <tr>\n",
       "      <td>509</td>\n",
       "      <td>10.0</td>\n",
       "      <td>20.0</td>\n",
       "    </tr>\n",
       "    <tr>\n",
       "      <td>121</td>\n",
       "      <td>10.2</td>\n",
       "      <td>22.7</td>\n",
       "    </tr>\n",
       "    <tr>\n",
       "      <td>503</td>\n",
       "      <td>10.4</td>\n",
       "      <td>19.8</td>\n",
       "    </tr>\n",
       "    <tr>\n",
       "      <td>547</td>\n",
       "      <td>10.8</td>\n",
       "      <td>27.7</td>\n",
       "    </tr>\n",
       "    <tr>\n",
       "      <td>120</td>\n",
       "      <td>11.3</td>\n",
       "      <td>23.0</td>\n",
       "    </tr>\n",
       "    <tr>\n",
       "      <td>370</td>\n",
       "      <td>11.4</td>\n",
       "      <td>22.6</td>\n",
       "    </tr>\n",
       "    <tr>\n",
       "      <td>546</td>\n",
       "      <td>11.7</td>\n",
       "      <td>20.2</td>\n",
       "    </tr>\n",
       "    <tr>\n",
       "      <td>199</td>\n",
       "      <td>11.8</td>\n",
       "      <td>27.2</td>\n",
       "    </tr>\n",
       "    <tr>\n",
       "      <td>565</td>\n",
       "      <td>11.8</td>\n",
       "      <td>22.5</td>\n",
       "    </tr>\n",
       "    <tr>\n",
       "      <td>519</td>\n",
       "      <td>12.1</td>\n",
       "      <td>26.3</td>\n",
       "    </tr>\n",
       "    <tr>\n",
       "      <td>311</td>\n",
       "      <td>12.6</td>\n",
       "      <td>23.2</td>\n",
       "    </tr>\n",
       "    <tr>\n",
       "      <td>168</td>\n",
       "      <td>12.6</td>\n",
       "      <td>22.8</td>\n",
       "    </tr>\n",
       "    <tr>\n",
       "      <td>447</td>\n",
       "      <td>12.8</td>\n",
       "      <td>23.3</td>\n",
       "    </tr>\n",
       "    <tr>\n",
       "      <td>575</td>\n",
       "      <td>13.7</td>\n",
       "      <td>25.0</td>\n",
       "    </tr>\n",
       "    <tr>\n",
       "      <td>505</td>\n",
       "      <td>14.1</td>\n",
       "      <td>32.6</td>\n",
       "    </tr>\n",
       "    <tr>\n",
       "      <td>259</td>\n",
       "      <td>14.2</td>\n",
       "      <td>30.5</td>\n",
       "    </tr>\n",
       "  </tbody>\n",
       "</table>\n",
       "</div>"
      ],
      "text/plain": [
       "     Direct_Bilirubin  Total_Bilirubin\n",
       "420               5.1             10.9\n",
       "526               5.2              9.4\n",
       "1                 5.5             10.9\n",
       "135               5.6             11.3\n",
       "574               6.0             12.1\n",
       "548               6.1             11.1\n",
       "117               6.2             12.7\n",
       "268               6.4             14.5\n",
       "118               7.0             15.9\n",
       "261               7.0              1.5\n",
       "536               7.2             15.8\n",
       "561               7.6             16.6\n",
       "172               7.6             14.1\n",
       "560               7.7             15.2\n",
       "37                7.8             14.2\n",
       "119               8.2             18.0\n",
       "576               8.2             15.0\n",
       "568               8.4             16.7\n",
       "577               8.4             12.7\n",
       "508               8.5             18.4\n",
       "562               8.5             17.3\n",
       "49                8.8             18.4\n",
       "506               8.8             17.7\n",
       "260               8.9             16.4\n",
       "177               9.0             14.8\n",
       "246               9.0              1.8\n",
       "272               9.5             18.5\n",
       "572               9.5             15.6\n",
       "535               9.5             19.6\n",
       "509              10.0             20.0\n",
       "121              10.2             22.7\n",
       "503              10.4             19.8\n",
       "547              10.8             27.7\n",
       "120              11.3             23.0\n",
       "370              11.4             22.6\n",
       "546              11.7             20.2\n",
       "199              11.8             27.2\n",
       "565              11.8             22.5\n",
       "519              12.1             26.3\n",
       "311              12.6             23.2\n",
       "168              12.6             22.8\n",
       "447              12.8             23.3\n",
       "575              13.7             25.0\n",
       "505              14.1             32.6\n",
       "259              14.2             30.5"
      ]
     },
     "execution_count": 388,
     "metadata": {},
     "output_type": "execute_result"
    }
   ],
   "source": [
    "test_data[[x_column_name, y_column_name]].sort_values(by=x_column_name)"
   ]
  },
  {
   "cell_type": "markdown",
   "metadata": {},
   "source": [
    "- Прямо скажу, данные \"разъезжаются\" на первый взгляд с тем, что предсказала модель и с тем, что было в таблице"
   ]
  },
  {
   "cell_type": "code",
   "execution_count": 389,
   "metadata": {},
   "outputs": [],
   "source": [
    "# очищу память после выполнения задания\n",
    "model = None\n",
    "test_data = None\n",
    "d_bilirubin = None\n",
    "t_bilirubin = None"
   ]
  },
  {
   "cell_type": "markdown",
   "metadata": {
    "colab_type": "text",
    "id": "bv5rdcvPSi_O"
   },
   "source": [
    "Построить многомерную линейную регрессию для предсказания болезни (Dataset) от двух параметров. Параметры подобрать с помощью матрицы корреляций. Предсказать несколько значений из таблицы и сравнить результат модели от табличного значения."
   ]
  },
  {
   "cell_type": "markdown",
   "metadata": {},
   "source": [
    "- Для этого построим матрицу корреляции и выберем два параметра для построения многомерной регрессии"
   ]
  },
  {
   "cell_type": "code",
   "execution_count": 390,
   "metadata": {},
   "outputs": [
    {
     "data": {
      "text/html": [
       "<div>\n",
       "<style scoped>\n",
       "    .dataframe tbody tr th:only-of-type {\n",
       "        vertical-align: middle;\n",
       "    }\n",
       "\n",
       "    .dataframe tbody tr th {\n",
       "        vertical-align: top;\n",
       "    }\n",
       "\n",
       "    .dataframe thead th {\n",
       "        text-align: right;\n",
       "    }\n",
       "</style>\n",
       "<table border=\"1\" class=\"dataframe\">\n",
       "  <thead>\n",
       "    <tr style=\"text-align: right;\">\n",
       "      <th></th>\n",
       "      <th>Age</th>\n",
       "      <th>Total_Bilirubin</th>\n",
       "      <th>Direct_Bilirubin</th>\n",
       "      <th>Alkaline_Phosphotase</th>\n",
       "      <th>Alamine_Aminotransferase</th>\n",
       "      <th>Aspartate_Aminotransferase</th>\n",
       "      <th>Total_Protiens</th>\n",
       "      <th>Albumin</th>\n",
       "      <th>Albumin_and_Globulin_Ratio</th>\n",
       "      <th>Dataset</th>\n",
       "    </tr>\n",
       "  </thead>\n",
       "  <tbody>\n",
       "    <tr>\n",
       "      <td>Age</td>\n",
       "      <td>1.000000</td>\n",
       "      <td>-0.000940</td>\n",
       "      <td>0.006714</td>\n",
       "      <td>0.080268</td>\n",
       "      <td>-0.086673</td>\n",
       "      <td>-0.019751</td>\n",
       "      <td>-0.187252</td>\n",
       "      <td>-0.265285</td>\n",
       "      <td>-0.215517</td>\n",
       "      <td>-0.136755</td>\n",
       "    </tr>\n",
       "    <tr>\n",
       "      <td>Total_Bilirubin</td>\n",
       "      <td>-0.000940</td>\n",
       "      <td>1.000000</td>\n",
       "      <td>0.979824</td>\n",
       "      <td>0.231588</td>\n",
       "      <td>0.248927</td>\n",
       "      <td>0.274390</td>\n",
       "      <td>-0.003320</td>\n",
       "      <td>-0.235058</td>\n",
       "      <td>-0.210539</td>\n",
       "      <td>-0.236615</td>\n",
       "    </tr>\n",
       "    <tr>\n",
       "      <td>Direct_Bilirubin</td>\n",
       "      <td>0.006714</td>\n",
       "      <td>0.979824</td>\n",
       "      <td>1.000000</td>\n",
       "      <td>0.234838</td>\n",
       "      <td>0.234307</td>\n",
       "      <td>0.257872</td>\n",
       "      <td>0.000199</td>\n",
       "      <td>-0.227724</td>\n",
       "      <td>-0.199017</td>\n",
       "      <td>-0.245431</td>\n",
       "    </tr>\n",
       "    <tr>\n",
       "      <td>Alkaline_Phosphotase</td>\n",
       "      <td>0.080268</td>\n",
       "      <td>0.231588</td>\n",
       "      <td>0.234838</td>\n",
       "      <td>1.000000</td>\n",
       "      <td>0.125754</td>\n",
       "      <td>0.167248</td>\n",
       "      <td>-0.028440</td>\n",
       "      <td>-0.165313</td>\n",
       "      <td>-0.234098</td>\n",
       "      <td>-0.184748</td>\n",
       "    </tr>\n",
       "    <tr>\n",
       "      <td>Alamine_Aminotransferase</td>\n",
       "      <td>-0.086673</td>\n",
       "      <td>0.248927</td>\n",
       "      <td>0.234307</td>\n",
       "      <td>0.125754</td>\n",
       "      <td>1.000000</td>\n",
       "      <td>0.791957</td>\n",
       "      <td>-0.042623</td>\n",
       "      <td>-0.030069</td>\n",
       "      <td>-0.002801</td>\n",
       "      <td>-0.163723</td>\n",
       "    </tr>\n",
       "    <tr>\n",
       "      <td>Aspartate_Aminotransferase</td>\n",
       "      <td>-0.019751</td>\n",
       "      <td>0.274390</td>\n",
       "      <td>0.257872</td>\n",
       "      <td>0.167248</td>\n",
       "      <td>0.791957</td>\n",
       "      <td>1.000000</td>\n",
       "      <td>-0.025716</td>\n",
       "      <td>-0.085551</td>\n",
       "      <td>-0.070402</td>\n",
       "      <td>-0.152155</td>\n",
       "    </tr>\n",
       "    <tr>\n",
       "      <td>Total_Protiens</td>\n",
       "      <td>-0.187252</td>\n",
       "      <td>-0.003320</td>\n",
       "      <td>0.000199</td>\n",
       "      <td>-0.028440</td>\n",
       "      <td>-0.042623</td>\n",
       "      <td>-0.025716</td>\n",
       "      <td>1.000000</td>\n",
       "      <td>0.784176</td>\n",
       "      <td>0.234652</td>\n",
       "      <td>0.034738</td>\n",
       "    </tr>\n",
       "    <tr>\n",
       "      <td>Albumin</td>\n",
       "      <td>-0.265285</td>\n",
       "      <td>-0.235058</td>\n",
       "      <td>-0.227724</td>\n",
       "      <td>-0.165313</td>\n",
       "      <td>-0.030069</td>\n",
       "      <td>-0.085551</td>\n",
       "      <td>0.784176</td>\n",
       "      <td>1.000000</td>\n",
       "      <td>0.689210</td>\n",
       "      <td>0.160654</td>\n",
       "    </tr>\n",
       "    <tr>\n",
       "      <td>Albumin_and_Globulin_Ratio</td>\n",
       "      <td>-0.215517</td>\n",
       "      <td>-0.210539</td>\n",
       "      <td>-0.199017</td>\n",
       "      <td>-0.234098</td>\n",
       "      <td>-0.002801</td>\n",
       "      <td>-0.070402</td>\n",
       "      <td>0.234652</td>\n",
       "      <td>0.689210</td>\n",
       "      <td>1.000000</td>\n",
       "      <td>0.162166</td>\n",
       "    </tr>\n",
       "    <tr>\n",
       "      <td>Dataset</td>\n",
       "      <td>-0.136755</td>\n",
       "      <td>-0.236615</td>\n",
       "      <td>-0.245431</td>\n",
       "      <td>-0.184748</td>\n",
       "      <td>-0.163723</td>\n",
       "      <td>-0.152155</td>\n",
       "      <td>0.034738</td>\n",
       "      <td>0.160654</td>\n",
       "      <td>0.162166</td>\n",
       "      <td>1.000000</td>\n",
       "    </tr>\n",
       "  </tbody>\n",
       "</table>\n",
       "</div>"
      ],
      "text/plain": [
       "                                 Age  Total_Bilirubin  Direct_Bilirubin  \\\n",
       "Age                         1.000000        -0.000940          0.006714   \n",
       "Total_Bilirubin            -0.000940         1.000000          0.979824   \n",
       "Direct_Bilirubin            0.006714         0.979824          1.000000   \n",
       "Alkaline_Phosphotase        0.080268         0.231588          0.234838   \n",
       "Alamine_Aminotransferase   -0.086673         0.248927          0.234307   \n",
       "Aspartate_Aminotransferase -0.019751         0.274390          0.257872   \n",
       "Total_Protiens             -0.187252        -0.003320          0.000199   \n",
       "Albumin                    -0.265285        -0.235058         -0.227724   \n",
       "Albumin_and_Globulin_Ratio -0.215517        -0.210539         -0.199017   \n",
       "Dataset                    -0.136755        -0.236615         -0.245431   \n",
       "\n",
       "                            Alkaline_Phosphotase  Alamine_Aminotransferase  \\\n",
       "Age                                     0.080268                 -0.086673   \n",
       "Total_Bilirubin                         0.231588                  0.248927   \n",
       "Direct_Bilirubin                        0.234838                  0.234307   \n",
       "Alkaline_Phosphotase                    1.000000                  0.125754   \n",
       "Alamine_Aminotransferase                0.125754                  1.000000   \n",
       "Aspartate_Aminotransferase              0.167248                  0.791957   \n",
       "Total_Protiens                         -0.028440                 -0.042623   \n",
       "Albumin                                -0.165313                 -0.030069   \n",
       "Albumin_and_Globulin_Ratio             -0.234098                 -0.002801   \n",
       "Dataset                                -0.184748                 -0.163723   \n",
       "\n",
       "                            Aspartate_Aminotransferase  Total_Protiens  \\\n",
       "Age                                          -0.019751       -0.187252   \n",
       "Total_Bilirubin                               0.274390       -0.003320   \n",
       "Direct_Bilirubin                              0.257872        0.000199   \n",
       "Alkaline_Phosphotase                          0.167248       -0.028440   \n",
       "Alamine_Aminotransferase                      0.791957       -0.042623   \n",
       "Aspartate_Aminotransferase                    1.000000       -0.025716   \n",
       "Total_Protiens                               -0.025716        1.000000   \n",
       "Albumin                                      -0.085551        0.784176   \n",
       "Albumin_and_Globulin_Ratio                   -0.070402        0.234652   \n",
       "Dataset                                      -0.152155        0.034738   \n",
       "\n",
       "                             Albumin  Albumin_and_Globulin_Ratio   Dataset  \n",
       "Age                        -0.265285                   -0.215517 -0.136755  \n",
       "Total_Bilirubin            -0.235058                   -0.210539 -0.236615  \n",
       "Direct_Bilirubin           -0.227724                   -0.199017 -0.245431  \n",
       "Alkaline_Phosphotase       -0.165313                   -0.234098 -0.184748  \n",
       "Alamine_Aminotransferase   -0.030069                   -0.002801 -0.163723  \n",
       "Aspartate_Aminotransferase -0.085551                   -0.070402 -0.152155  \n",
       "Total_Protiens              0.784176                    0.234652  0.034738  \n",
       "Albumin                     1.000000                    0.689210  0.160654  \n",
       "Albumin_and_Globulin_Ratio  0.689210                    1.000000  0.162166  \n",
       "Dataset                     0.160654                    0.162166  1.000000  "
      ]
     },
     "execution_count": 390,
     "metadata": {},
     "output_type": "execute_result"
    }
   ],
   "source": [
    "data.corr()"
   ]
  },
  {
   "cell_type": "markdown",
   "metadata": {},
   "source": [
    "- Из полученной матрицы корреляции я выберу столбцы Alamine_Aminotransferase и Alamine_Aminotransferase, т.к. они не так сильно коррелируют между собой и с целевым столбцом Dataset\n"
   ]
  },
  {
   "cell_type": "code",
   "execution_count": 391,
   "metadata": {},
   "outputs": [],
   "source": [
    "x1_column_name = 'Alkaline_Phosphotase'\n",
    "x2_column_name = 'Alamine_Aminotransferase'\n",
    "\n",
    "x1 = data[x1_column_name]\n",
    "x2 = data[x2_column_name]\n",
    "\n",
    "target_column_name = 'Dataset'\n",
    "target = data[target_column_name]"
   ]
  },
  {
   "cell_type": "code",
   "execution_count": 392,
   "metadata": {},
   "outputs": [
    {
     "name": "stdout",
     "output_type": "stream",
     "text": [
      "intercept: 1.4057285585960706; coef: [-0.00031057 -0.00035359]\n"
     ]
    }
   ],
   "source": [
    "# repeated the import for clean case\n",
    "from sklearn.linear_model import LinearRegression\n",
    "\n",
    "x_model = np.array([x1, x2]).T\n",
    "model = LinearRegression()\n",
    "model.fit(x_model, target)\n",
    "\n",
    "print(f'intercept: {model.intercept_}; coef: {model.coef_}')"
   ]
  },
  {
   "cell_type": "markdown",
   "metadata": {},
   "source": [
    "- Можно заметить, что переменная Dataset зависит от обоих параметров примерно одинаково"
   ]
  },
  {
   "cell_type": "code",
   "execution_count": 393,
   "metadata": {},
   "outputs": [
    {
     "name": "stdout",
     "output_type": "stream",
     "text": [
      "Номера тестовых рядов: [480, 271, 62, 301, 274]\n"
     ]
    }
   ],
   "source": [
    "data_rows_count = len(data)\n",
    "test_rows_indexes = list(map(lambda _: np.random.randint(data_rows_count), range(5)))\n",
    "\n",
    "print(f'Номера тестовых рядов: {test_rows_indexes}')"
   ]
  },
  {
   "cell_type": "code",
   "execution_count": 394,
   "metadata": {},
   "outputs": [
    {
     "data": {
      "text/html": [
       "<div>\n",
       "<style scoped>\n",
       "    .dataframe tbody tr th:only-of-type {\n",
       "        vertical-align: middle;\n",
       "    }\n",
       "\n",
       "    .dataframe tbody tr th {\n",
       "        vertical-align: top;\n",
       "    }\n",
       "\n",
       "    .dataframe thead th {\n",
       "        text-align: right;\n",
       "    }\n",
       "</style>\n",
       "<table border=\"1\" class=\"dataframe\">\n",
       "  <thead>\n",
       "    <tr style=\"text-align: right;\">\n",
       "      <th></th>\n",
       "      <th>Alkaline_Phosphotase</th>\n",
       "      <th>Alamine_Aminotransferase</th>\n",
       "      <th>Dataset</th>\n",
       "    </tr>\n",
       "  </thead>\n",
       "  <tbody>\n",
       "    <tr>\n",
       "      <td>481</td>\n",
       "      <td>282</td>\n",
       "      <td>132</td>\n",
       "      <td>1</td>\n",
       "    </tr>\n",
       "    <tr>\n",
       "      <td>272</td>\n",
       "      <td>380</td>\n",
       "      <td>390</td>\n",
       "      <td>1</td>\n",
       "    </tr>\n",
       "    <tr>\n",
       "      <td>62</td>\n",
       "      <td>158</td>\n",
       "      <td>37</td>\n",
       "      <td>1</td>\n",
       "    </tr>\n",
       "    <tr>\n",
       "      <td>302</td>\n",
       "      <td>430</td>\n",
       "      <td>28</td>\n",
       "      <td>1</td>\n",
       "    </tr>\n",
       "    <tr>\n",
       "      <td>275</td>\n",
       "      <td>180</td>\n",
       "      <td>22</td>\n",
       "      <td>2</td>\n",
       "    </tr>\n",
       "  </tbody>\n",
       "</table>\n",
       "</div>"
      ],
      "text/plain": [
       "     Alkaline_Phosphotase  Alamine_Aminotransferase  Dataset\n",
       "481                   282                       132        1\n",
       "272                   380                       390        1\n",
       "62                    158                        37        1\n",
       "302                   430                        28        1\n",
       "275                   180                        22        2"
      ]
     },
     "execution_count": 394,
     "metadata": {},
     "output_type": "execute_result"
    }
   ],
   "source": [
    "test_data = data.iloc[test_rows_indexes][[x1_column_name, x2_column_name, target_column_name]]\n",
    "test_data"
   ]
  },
  {
   "cell_type": "code",
   "execution_count": 395,
   "metadata": {},
   "outputs": [
    {
     "data": {
      "text/plain": [
       "array([1.27147357, 1.14981202, 1.34357535, 1.26228184, 1.34204655])"
      ]
     },
     "execution_count": 395,
     "metadata": {},
     "output_type": "execute_result"
    }
   ],
   "source": [
    "model.predict(\n",
    "  np.array(test_data[[x1_column_name, x2_column_name]])\n",
    ")"
   ]
  },
  {
   "cell_type": "markdown",
   "metadata": {},
   "source": [
    "- Если честно, то я затрудняюсь сделать вывод из полученных данных, т.к. они все выглядят очень похожими, но целевой столбец разный в примере... Код перепроверял несколько раз и не нашёл ошибку"
   ]
  },
  {
   "cell_type": "code",
   "execution_count": 396,
   "metadata": {},
   "outputs": [],
   "source": [
    "x1 = None\n",
    "x2 = None\n",
    "target = None\n",
    "model = None\n",
    "test_data = None"
   ]
  },
  {
   "cell_type": "markdown",
   "metadata": {
    "colab_type": "text",
    "id": "ZWc_9uF3PQIo"
   },
   "source": [
    "Посчитать квартили для всех колонок. "
   ]
  },
  {
   "cell_type": "code",
   "execution_count": 397,
   "metadata": {
    "scrolled": false
   },
   "outputs": [
    {
     "name": "stdout",
     "output_type": "stream",
     "text": [
      "column: Age\n",
      "quartile: \n",
      "0.25    33.0\n",
      "0.50    45.0\n",
      "0.75    58.0\n",
      "Name: Age, dtype: float64\n",
      "\n",
      "column: Total_Bilirubin\n",
      "quartile: \n",
      "0.25    0.8\n",
      "0.50    1.0\n",
      "0.75    2.6\n",
      "Name: Total_Bilirubin, dtype: float64\n",
      "\n",
      "column: Direct_Bilirubin\n",
      "quartile: \n",
      "0.25    0.2\n",
      "0.50    0.3\n",
      "0.75    1.3\n",
      "Name: Direct_Bilirubin, dtype: float64\n",
      "\n",
      "column: Alkaline_Phosphotase\n",
      "quartile: \n",
      "0.25    175.25\n",
      "0.50    208.00\n",
      "0.75    298.00\n",
      "Name: Alkaline_Phosphotase, dtype: float64\n",
      "\n",
      "column: Alamine_Aminotransferase\n",
      "quartile: \n",
      "0.25    23.00\n",
      "0.50    35.00\n",
      "0.75    60.75\n",
      "Name: Alamine_Aminotransferase, dtype: float64\n",
      "\n",
      "column: Aspartate_Aminotransferase\n",
      "quartile: \n",
      "0.25    25.0\n",
      "0.50    42.0\n",
      "0.75    87.0\n",
      "Name: Aspartate_Aminotransferase, dtype: float64\n",
      "\n",
      "column: Total_Protiens\n",
      "quartile: \n",
      "0.25    5.8\n",
      "0.50    6.6\n",
      "0.75    7.2\n",
      "Name: Total_Protiens, dtype: float64\n",
      "\n",
      "column: Albumin\n",
      "quartile: \n",
      "0.25    2.6\n",
      "0.50    3.1\n",
      "0.75    3.8\n",
      "Name: Albumin, dtype: float64\n",
      "\n",
      "column: Albumin_and_Globulin_Ratio\n",
      "quartile: \n",
      "0.25    0.70\n",
      "0.50    0.94\n",
      "0.75    1.10\n",
      "Name: Albumin_and_Globulin_Ratio, dtype: float64\n",
      "\n",
      "column: Dataset\n",
      "quartile: \n",
      "0.25    1.0\n",
      "0.50    1.0\n",
      "0.75    2.0\n",
      "Name: Dataset, dtype: float64\n",
      "\n"
     ]
    }
   ],
   "source": [
    "quartile_data = data.drop('Gender', axis=1)\n",
    "\n",
    "for column in quartile_data.columns:\n",
    "    quartile = quartile_data[column].quantile([0.25, 0.50, 0.75])\n",
    "    print(f'column: {column}')\n",
    "    print(f'quartile: \\n{quartile}')\n",
    "    print()\n"
   ]
  },
  {
   "cell_type": "code",
   "execution_count": 399,
   "metadata": {},
   "outputs": [],
   "source": [
    "quartile_data = None"
   ]
  },
  {
   "cell_type": "markdown",
   "metadata": {
    "colab_type": "text",
    "id": "7kwq4rqzOoz1"
   },
   "source": [
    "Построить график histogram двух выборок по наличию или отсутствию болезни: люди, возрастом до 50 лет, и люди после 50 лет. Посчитать среднее значение и квартиль 0.5 в данных выборках. Чем они отличаются?"
   ]
  },
  {
   "cell_type": "code",
   "execution_count": 412,
   "metadata": {},
   "outputs": [
    {
     "data": {
      "text/plain": [
       "array([1, 2], dtype=int64)"
      ]
     },
     "execution_count": 412,
     "metadata": {},
     "output_type": "execute_result"
    }
   ],
   "source": [
    "data_less_50 = data[data['Age'] <= 50]\n",
    "data_more_50 = data[data['Age'] > 50]\n",
    "\n",
    "data['Dataset'].unique()"
   ]
  },
  {
   "cell_type": "code",
   "execution_count": 413,
   "metadata": {},
   "outputs": [
    {
     "data": {
      "image/png": "[encoded data removed]",
      "text/plain": [
       "<Figure size 432x288 with 1 Axes>"
      ]
     },
     "metadata": {
      "needs_background": "light"
     },
     "output_type": "display_data"
    }
   ],
   "source": [
    "sns.distplot(data_less_50[data_less_50['Dataset'] == 1]['Age'])\n",
    "sns.distplot(data_less_50[data_less_50['Dataset'] == 2]['Age'])\n",
    "\n",
    "plt.title('Больных и здоровых людей в возрасте до 50 лет')\n",
    "plt.legend(['Больных', 'Здоровых'])\n",
    "\n",
    "plt.show()"
   ]
  },
  {
   "cell_type": "code",
   "execution_count": 434,
   "metadata": {},
   "outputs": [
    {
     "name": "stdout",
     "output_type": "stream",
     "text": [
      "Среднее значение в выборке людей младше 50 лет: 35.148936170212764\n",
      "Квантиль 0.5 в выборке людей младше 50 лет: 36.0\n"
     ]
    }
   ],
   "source": [
    "print(f'Среднее значение в выборке людей младше 50 лет: {data_less_50[\"Age\"].mean()}')\n",
    "print(f'Квантиль 0.5 в выборке людей младше 50 лет: {data_less_50[\"Age\"].quantile(0.5)}')"
   ]
  },
  {
   "cell_type": "code",
   "execution_count": 435,
   "metadata": {},
   "outputs": [
    {
     "data": {
      "image/png": "[encoded data removed]",
      "text/plain": [
       "<Figure size 432x288 with 1 Axes>"
      ]
     },
     "metadata": {
      "needs_background": "light"
     },
     "output_type": "display_data"
    }
   ],
   "source": [
    "sns.distplot(data_more_50[data_more_50['Dataset'] == 1]['Age'])\n",
    "sns.distplot(data_more_50[data_more_50['Dataset'] == 2]['Age'])\n",
    "\n",
    "plt.title('Больных и здоровых людей в возрасте от 50 лет')\n",
    "plt.legend(['Больных', 'Здоровых'])\n",
    "\n",
    "plt.show()"
   ]
  },
  {
   "cell_type": "code",
   "execution_count": 437,
   "metadata": {},
   "outputs": [
    {
     "name": "stdout",
     "output_type": "stream",
     "text": [
      "Среднее значение в выборке людей старше 50 лет: 62.213592233009706\n",
      "Квантиль 0.5 в выборке людей старше 50 лет: 60.0\n"
     ]
    }
   ],
   "source": [
    "print(f'Среднее значение в выборке людей старше 50 лет: {data_more_50[\"Age\"].mean()}')\n",
    "print(f'Квантиль 0.5 в выборке людей старше 50 лет: {data_more_50[\"Age\"].quantile(0.5)}')"
   ]
  },
  {
   "cell_type": "markdown",
   "metadata": {},
   "source": [
    "- среднее значение и квантиль отличаются в обеих выборках\n",
    "- в выборке ДО 50 лет среднее значение ниже, чем квантиль\n",
    "- в выборке ОТ 50 лет среднее значение выше, чем квантиль\n",
    "\n",
    "  - какой вывод от этого - я затрудняюсь придумать..."
   ]
  },
  {
   "cell_type": "code",
   "execution_count": 448,
   "metadata": {},
   "outputs": [],
   "source": [
    "data_less_50 = None\n",
    "data_more_50 = None"
   ]
  },
  {
   "cell_type": "markdown",
   "metadata": {
    "colab_type": "text",
    "id": "QZVd-KyDQq38"
   },
   "source": [
    "\n",
    "Посчитать критерий одновыборочный t-критерий для выборки по критерию Total_Bilirubin у больных людей. Как показатель помогает понять, что выборки не похожа на генеральную совокупность?"
   ]
  },
  {
   "cell_type": "code",
   "execution_count": 449,
   "metadata": {},
   "outputs": [
    {
     "data": {
      "text/plain": [
       "Ttest_1sampResult(statistic=2.668022710113231, pvalue=0.007929471185804672)"
      ]
     },
     "execution_count": 449,
     "metadata": {},
     "output_type": "execute_result"
    }
   ],
   "source": [
    "stats.ttest_1samp(\n",
    "    data[data['Dataset'] == 1]['Total_Bilirubin'],\n",
    "    data['Total_Bilirubin'].mean()\n",
    ")"
   ]
  },
  {
   "cell_type": "markdown",
   "metadata": {},
   "source": [
    "- в данном одновыборочном критерии мы не принимаем нулевую гипотезу, т.к. pvalue составляет лишь ~0.8%, что говорит о том, что Общий билирубин влияет на появление заболевания печени у человека"
   ]
  },
  {
   "cell_type": "markdown",
   "metadata": {
    "colab_type": "text",
    "id": "dI901FRqRC8A"
   },
   "source": [
    "Посчитать критерий t для двух выборок: больные и здоровые (по критерию Total_Bilirubin). Имеют ли данные группы схожесть?"
   ]
  },
  {
   "cell_type": "code",
   "execution_count": 468,
   "metadata": {},
   "outputs": [
    {
     "data": {
      "text/plain": [
       "Ttest_indResult(statistic=5.8649857449009275, pvalue=7.548849823227222e-09)"
      ]
     },
     "execution_count": 468,
     "metadata": {},
     "output_type": "execute_result"
    }
   ],
   "source": [
    "stats.ttest_ind(\n",
    "    data[data['Dataset'] == 1]['Total_Bilirubin'],\n",
    "    data[data['Dataset'] == 2]['Total_Bilirubin'],\n",
    ")"
   ]
  },
  {
   "cell_type": "markdown",
   "metadata": {},
   "source": [
    "- в этом исследовании мы подтверждаем предыдущее наше заключение и можем смело утверждать, что Общий билирубин - явный признак заболевания печени, т.к. pvalue в двойной выборке ~0%"
   ]
  },
  {
   "cell_type": "markdown",
   "metadata": {
    "colab_type": "text",
    "id": "2e0YHsEqAnvv"
   },
   "source": [
    "Посчитать статистическую значимость для трех выборок (по возрасту) - 1ая группа от 1 до 30 лет, 2ая группа от 30 лет до 55, 3я группа более 55 по выборке Dataset. Сравнить с реальностью (они логично что будут отличаться)."
   ]
  },
  {
   "cell_type": "code",
   "execution_count": 469,
   "metadata": {},
   "outputs": [
    {
     "data": {
      "text/plain": [
       "F_onewayResult(statistic=9.374152826309006, pvalue=9.848742562445969e-05)"
      ]
     },
     "execution_count": 469,
     "metadata": {},
     "output_type": "execute_result"
    }
   ],
   "source": [
    "group_1 = data[data['Age'] < 30]['Dataset']\n",
    "group_2 = data[(data['Age'] >= 30) & (data['Age'] <= 55)]['Dataset']\n",
    "group_3 = data[data['Age'] > 55]['Dataset']\n",
    "\n",
    "stats.f_oneway(group_1, group_2, group_3)"
   ]
  },
  {
   "cell_type": "markdown",
   "metadata": {},
   "source": [
    "- Проверим наше заключение"
   ]
  },
  {
   "cell_type": "code",
   "execution_count": 473,
   "metadata": {},
   "outputs": [
    {
     "name": "stdout",
     "output_type": "stream",
     "text": [
      "group 1 count: 105; mean: 1.457142857142857\n",
      "group 2 count: 319; mean: 1.244514106583072\n",
      "group 3 count: 158; mean: 1.259493670886076\n"
     ]
    }
   ],
   "source": [
    "print(f'group 1 count: {len(group_1)}; mean: {group_1.mean()}')\n",
    "print(f'group 2 count: {len(group_2)}; mean: {group_2.mean()}')\n",
    "print(f'group 3 count: {len(group_3)}; mean: {group_3.mean()}')"
   ]
  },
  {
   "cell_type": "markdown",
   "metadata": {},
   "source": [
    "- Учитывая последние показатели, среднее кол-во больных не сильно отличается во всех группах, за исключением 1 группы, где находятся люди до 30. Это обозначает, что вероятность зависимости возникновения заболевания от возраста крайне маловероятна"
   ]
  },
  {
   "cell_type": "markdown",
   "metadata": {
    "colab_type": "text",
    "id": "Jm1ESbSRRPOP"
   },
   "source": [
    "Вопросы задавать на почту yustiks@gmail.com"
   ]
  }
 ],
 "metadata": {
  "colab": {
   "collapsed_sections": [],
   "name": "dz_3.ipynb",
   "provenance": [],
   "toc_visible": true,
   "version": "0.3.2"
  },
  "kernelspec": {
   "display_name": "Python 3",
   "language": "python",
   "name": "python3"
  },
  "language_info": {
   "codemirror_mode": {
    "name": "ipython",
    "version": 3
   },
   "file_extension": ".py",
   "mimetype": "text/x-python",
   "name": "python",
   "nbconvert_exporter": "python",
   "pygments_lexer": "ipython3",
   "version": "3.7.4"
  }
 },
 "nbformat": 4,
 "nbformat_minor": 1
}
